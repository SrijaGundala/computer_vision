{
 "cells": [
  {
   "cell_type": "code",
   "execution_count": null,
   "id": "96d9b6c1",
   "metadata": {},
   "outputs": [],
   "source": [
    "import cv2\n",
    "path = r\"C:\\Users\\srija\\Desktop\\car1.png\"\n",
    "src = cv2.imread(path)\n",
    "window_name = 'Image'\n",
    "image = cv2.rotate(src, cv2.ROTATE_180)\n",
    "img = cv2.resize(image,(600,600))\n",
    "cv2.imshow(window_name, img)\n",
    "cv2.waitKey(0)\n",
    "\n"
   ]
  },
  {
   "cell_type": "code",
   "execution_count": null,
   "id": "45be30dd",
   "metadata": {},
   "outputs": [],
   "source": []
  }
 ],
 "metadata": {
  "kernelspec": {
   "display_name": "Python 3 (ipykernel)",
   "language": "python",
   "name": "python3"
  },
  "language_info": {
   "codemirror_mode": {
    "name": "ipython",
    "version": 3
   },
   "file_extension": ".py",
   "mimetype": "text/x-python",
   "name": "python",
   "nbconvert_exporter": "python",
   "pygments_lexer": "ipython3",
   "version": "3.11.3"
  }
 },
 "nbformat": 4,
 "nbformat_minor": 5
}
