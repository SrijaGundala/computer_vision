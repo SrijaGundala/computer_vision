{
 "cells": [
  {
   "cell_type": "code",
   "execution_count": 1,
   "id": "222e7957",
   "metadata": {},
   "outputs": [
    {
     "data": {
      "text/plain": [
       "111"
      ]
     },
     "execution_count": 1,
     "metadata": {},
     "output_type": "execute_result"
    }
   ],
   "source": [
    "import cv2\n",
    "import numpy as np\n",
    "im_src = cv2.imread(r\"C:\\Users\\srija\\Desktop\\car1.png\")\n",
    "pts_src = np.array([[141, 131], [480, 159], [493, 630],[64, 601]])\n",
    "im_dst = cv2.imread(r\"C:\\Users\\srija\\Desktop\\car1.png\")\n",
    "pts_dst = np.array([[318, 256],[534, 372],[316, 670],[73, 473]])\n",
    "h, status = cv2.findHomography(pts_src, pts_dst)\n",
    "im_out = cv2.warpPerspective(im_src, h, (im_dst.shape[1],im_dst.shape[0]))\n",
    "img = cv2.resize(im_src,(600,600))\n",
    "img1 = cv2.resize(im_dst,(600,600))\n",
    "img2 = cv2.resize(im_out,(600,600))\n",
    "cv2.imshow(\"Source Image\", img)\n",
    "cv2.imshow(\"Destination Image\", img1)\n",
    "cv2.imshow(\"Warped Source Image\", img2)\n",
    "cv2.waitKey(0)\n",
    "\n"
   ]
  },
  {
   "cell_type": "code",
   "execution_count": null,
   "id": "8d2d54e6",
   "metadata": {},
   "outputs": [],
   "source": []
  }
 ],
 "metadata": {
  "kernelspec": {
   "display_name": "Python 3 (ipykernel)",
   "language": "python",
   "name": "python3"
  },
  "language_info": {
   "codemirror_mode": {
    "name": "ipython",
    "version": 3
   },
   "file_extension": ".py",
   "mimetype": "text/x-python",
   "name": "python",
   "nbconvert_exporter": "python",
   "pygments_lexer": "ipython3",
   "version": "3.11.3"
  }
 },
 "nbformat": 4,
 "nbformat_minor": 5
}
