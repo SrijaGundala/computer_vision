{
 "cells": [
  {
   "cell_type": "code",
   "execution_count": null,
   "id": "926892b4",
   "metadata": {},
   "outputs": [],
   "source": [
    "import cv2\n",
    "import numpy as np\n",
    "\n",
    "img1 = cv2.imread(r\"C:\\Users\\srija\\Desktop\\car1.png\")\n",
    "\n",
    "# Define transformation parameters\n",
    "scaling_factor = 0.5  # Scaling factor\n",
    "rotation_angle = 45  # Rotation angle in degrees\n",
    "translation_x = 100  # Translation in the x-direction\n",
    "translation_y = 50   # Translation in the y-direction\n",
    "\n",
    "# Perform linear transformation\n",
    "rows, cols, _ = img1.shape\n",
    "M = cv2.getRotationMatrix2D((cols // 2, rows // 2), rotation_angle, scaling_factor)\n",
    "M[:, 2] += translation_x, translation_y\n",
    "img_transformed = cv2.warpAffine(img1, M, (cols, rows))\n",
    "\n",
    "# Resize images\n",
    "img = cv2.resize(img1, (600, 600))\n",
    "img_transformed_resized = cv2.resize(img_transformed, (600, 600))\n",
    "\n",
    "# Display images\n",
    "cv2.imshow('Original Image', img)\n",
    "cv2.imshow('Transformed Image', img_transformed_resized)\n",
    "\n",
    "cv2.waitKey(0)\n",
    "cv2.destroyAllWindows()\n"
   ]
  },
  {
   "cell_type": "code",
   "execution_count": null,
   "id": "cd359515",
   "metadata": {},
   "outputs": [],
   "source": []
  },
  {
   "cell_type": "code",
   "execution_count": null,
   "id": "60bf3e2f",
   "metadata": {},
   "outputs": [],
   "source": []
  }
 ],
 "metadata": {
  "kernelspec": {
   "display_name": "Python 3 (ipykernel)",
   "language": "python",
   "name": "python3"
  },
  "language_info": {
   "codemirror_mode": {
    "name": "ipython",
    "version": 3
   },
   "file_extension": ".py",
   "mimetype": "text/x-python",
   "name": "python",
   "nbconvert_exporter": "python",
   "pygments_lexer": "ipython3",
   "version": "3.11.3"
  }
 },
 "nbformat": 4,
 "nbformat_minor": 5
}
