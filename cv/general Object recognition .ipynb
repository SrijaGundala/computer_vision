{
 "cells": [
  {
   "cell_type": "code",
   "execution_count": null,
   "id": "25081c82",
   "metadata": {},
   "outputs": [],
   "source": [
    "import cv2\n",
    "watch_cascade = cv2.CascadeClassifier(\"C://Users//srija//Desktop//car//Object-Detection-using-OpenCV-master//watch-cascade.xml\")\n",
    "img = cv2.imread(r\"C:\\Users\\srija\\Desktop\\car1.png\")\n",
    "gray = cv2.cvtColor(img, cv2.COLOR_BGR2GRAY)\n",
    "watches = watch_cascade.detectMultiScale(gray, scaleFactor=1.2, minNeighbors=5)\n",
    "for (x, y, w, h) in watches:\n",
    "    cv2.rectangle(img, (x, y), (x + w, y + h), (0, 255, 0), 2)\n",
    "    cv2.imshow('Watches Detected', img)\n",
    "cv2.waitKey(0)\n",
    "cv2.destroyAllWindows()\n"
   ]
  }
 ],
 "metadata": {
  "kernelspec": {
   "display_name": "Python 3 (ipykernel)",
   "language": "python",
   "name": "python3"
  },
  "language_info": {
   "codemirror_mode": {
    "name": "ipython",
    "version": 3
   },
   "file_extension": ".py",
   "mimetype": "text/x-python",
   "name": "python",
   "nbconvert_exporter": "python",
   "pygments_lexer": "ipython3",
   "version": "3.11.3"
  }
 },
 "nbformat": 4,
 "nbformat_minor": 5
}
