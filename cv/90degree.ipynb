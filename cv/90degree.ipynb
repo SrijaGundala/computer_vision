{
 "cells": [
  {
   "cell_type": "code",
   "execution_count": 4,
   "id": "899e5b03",
   "metadata": {},
   "outputs": [
    {
     "data": {
      "text/plain": [
       "-1"
      ]
     },
     "execution_count": 4,
     "metadata": {},
     "output_type": "execute_result"
    }
   ],
   "source": [
    "import cv2\n",
    "path = r\"C:\\Users\\srija\\Desktop\\car1.png\"\n",
    "src = cv2.imread(path)\n",
    "window_name = 'Image'\n",
    "image = cv2.rotate(src, cv2.ROTATE_90_COUNTERCLOCKWISE)\n",
    "img = cv2.resize(image,(600,600))\n",
    "cv2.imshow(window_name, img)\n",
    "cv2.waitKey(0)\n"
   ]
  },
  {
   "cell_type": "code",
   "execution_count": null,
   "id": "69fda4ba",
   "metadata": {},
   "outputs": [],
   "source": []
  }
 ],
 "metadata": {
  "kernelspec": {
   "display_name": "Python 3 (ipykernel)",
   "language": "python",
   "name": "python3"
  },
  "language_info": {
   "codemirror_mode": {
    "name": "ipython",
    "version": 3
   },
   "file_extension": ".py",
   "mimetype": "text/x-python",
   "name": "python",
   "nbconvert_exporter": "python",
   "pygments_lexer": "ipython3",
   "version": "3.11.3"
  }
 },
 "nbformat": 4,
 "nbformat_minor": 5
}
