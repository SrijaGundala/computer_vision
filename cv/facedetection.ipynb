{
 "cells": [
  {
   "cell_type": "code",
   "execution_count": null,
   "id": "d92b9709",
   "metadata": {},
   "outputs": [],
   "source": [
    "SOURCE CODE : \n",
    "import cv2\n",
    "img = cv2.imread(\"C://Users//srija//Desktop//facee//face.jpeg\")\n",
    "gray = cv2.cvtColor(img, cv2.COLOR_BGR2GRAY)\n",
    "face_cascade =cv2.CascadeClassifier(\"C://Users//srija//Desktop//facee//haarcascade_frontalface_default.xml\")\n",
    "faces = face_cascade.detectMultiScale(gray, scaleFactor=1.1, minNeighbors=5)\n",
    "for (x, y, w, h) in faces:\n",
    "    cv2.rectangle(img, (x, y), (x + w, y + h), (0, 255, 0), 2)\n",
    "    img1 = cv2.resize(img,(600,600))\n",
    "    cv2.imshow('Faces Detected', img1)\n",
    "cv2.waitKey(0)\n",
    "cv2.destroyAllWindows()\n"
   ]
  }
 ],
 "metadata": {
  "kernelspec": {
   "display_name": "Python 3 (ipykernel)",
   "language": "python",
   "name": "python3"
  },
  "language_info": {
   "codemirror_mode": {
    "name": "ipython",
    "version": 3
   },
   "file_extension": ".py",
   "mimetype": "text/x-python",
   "name": "python",
   "nbconvert_exporter": "python",
   "pygments_lexer": "ipython3",
   "version": "3.11.3"
  }
 },
 "nbformat": 4,
 "nbformat_minor": 5
}
