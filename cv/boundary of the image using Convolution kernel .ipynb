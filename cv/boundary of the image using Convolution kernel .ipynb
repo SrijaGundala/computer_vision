{
 "cells": [
  {
   "cell_type": "code",
   "execution_count": null,
   "id": "48dbb753",
   "metadata": {},
   "outputs": [],
   "source": [
    "import cv2\n",
    "import numpy as np\n",
    "img = cv2.imread(r\"C:\\Users\\srija\\Desktop\\car1.png\"),cv2.IMREAD_GRAYSCALE)\n",
    "dx = cv2.Sobel(img, cv2.CV_64F, 1, 0)\n",
    "dy = cv2.Sobel(img, cv2.CV_64F, 0, 1)\n",
    "edges = cv2.magnitude(dx, dy)\n",
    "thresh = 100\n",
    "edges[edges < thresh] = 0\n",
    "edges[edges >= thresh] = 255\n",
    "cv2.imshow(\"Edges\", edges)\n",
    "cv2.waitKey(0)\n",
    "cv2.destroyAllWindows()\n"
   ]
  }
 ],
 "metadata": {
  "kernelspec": {
   "display_name": "Python 3 (ipykernel)",
   "language": "python",
   "name": "python3"
  },
  "language_info": {
   "codemirror_mode": {
    "name": "ipython",
    "version": 3
   },
   "file_extension": ".py",
   "mimetype": "text/x-python",
   "name": "python",
   "nbconvert_exporter": "python",
   "pygments_lexer": "ipython3",
   "version": "3.11.3"
  }
 },
 "nbformat": 4,
 "nbformat_minor": 5
}
