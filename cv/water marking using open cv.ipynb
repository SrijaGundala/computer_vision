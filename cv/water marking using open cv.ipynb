{
 "cells": [
  {
   "cell_type": "code",
   "execution_count": null,
   "id": "23db5176",
   "metadata": {},
   "outputs": [],
   "source": [
    "import cv2\n",
    "img = cv2.imread(r\"C:\\Users\\srija\\Desktop\\car1.png\")\n",
    "wm = cv2.imread(r\"C:\\Users\\srija\\Desktop\\car2.png\")\n",
    "h_wm, w_wm = wm.shape[:2]\n",
    "h_img, w_img = img.shape[:2]\n",
    "center_x = int(w_img/2)\n",
    "center_y = int(h_img/2)\n",
    "top_y = center_y - int(h_wm/2)\n",
    "left_x = center_x - int(w_wm/2)\n",
    "bottom_y = top_y + h_wm\n",
    "right_x = left_x + w_wm\n",
    "roi = img[top_y:bottom_y, left_x:right_x]\n",
    "result = cv2.addWeighted(roi, 1, wm, 0.3, 0)\n",
    "img[top_y:bottom_y, left_x:right_x] = result\n",
    "cv2.imshow(\"Watermarked Image\", img)\n",
    "cv2.waitKey(0)\n",
    "cv2.destroyAllWindows()\n"
   ]
  }
 ],
 "metadata": {
  "kernelspec": {
   "display_name": "Python 3 (ipykernel)",
   "language": "python",
   "name": "python3"
  },
  "language_info": {
   "codemirror_mode": {
    "name": "ipython",
    "version": 3
   },
   "file_extension": ".py",
   "mimetype": "text/x-python",
   "name": "python",
   "nbconvert_exporter": "python",
   "pygments_lexer": "ipython3",
   "version": "3.11.3"
  }
 },
 "nbformat": 4,
 "nbformat_minor": 5
}
