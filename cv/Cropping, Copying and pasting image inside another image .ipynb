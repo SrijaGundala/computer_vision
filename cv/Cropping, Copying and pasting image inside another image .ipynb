{
 "cells": [
  {
   "cell_type": "code",
   "execution_count": null,
   "id": "3407b9f2",
   "metadata": {},
   "outputs": [],
   "source": [
    "import cv2\n",
    "import numpy as np\n",
    "image = cv2.imread(r\"C:\\Users\\srija\\Desktop\\car1.png\")\n",
    " img2 = cv2.imread(r\"C:\\Users\\srija\\Desktop\\car2.png\")\n",
    "print(image.shape) # Print image shape\n",
    "cv2.imshow(\"original\", image)\n",
    "imageCopy = image.copy()\n",
    "cv2.circle(imageCopy, (100, 100), 30, (255, 0, 0), -1)\n",
    "cv2.imshow('image', image)\n",
    "cv2.imshow('image copy', imageCopy)\n",
    "cropped_image = image[80:280, 150:330]\n",
    "cv2.imshow(\"cropped\", cropped_image)\n",
    "cv2.imwrite(\"Cropped Image.jpg\", cropped_image)\n",
    "dst = cv2.addWeighted(image, 0.5, img2, 0.7, 0)\n",
    "img_arr = np.hstack((image, img2))\n",
    "cv2.imshow('Input Images',img_arr)\n",
    "cv2.imshow('Blended Image',dst)\n",
    "cv2.waitKey(0)\n",
    "cv2.destroyAllWindows()\n"
   ]
  }
 ],
 "metadata": {
  "kernelspec": {
   "display_name": "Python 3 (ipykernel)",
   "language": "python",
   "name": "python3"
  },
  "language_info": {
   "codemirror_mode": {
    "name": "ipython",
    "version": 3
   },
   "file_extension": ".py",
   "mimetype": "text/x-python",
   "name": "python",
   "nbconvert_exporter": "python",
   "pygments_lexer": "ipython3",
   "version": "3.11.3"
  }
 },
 "nbformat": 4,
 "nbformat_minor": 5
}
