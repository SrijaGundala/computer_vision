{
 "cells": [
  {
   "cell_type": "code",
   "execution_count": null,
   "id": "d2ee2992",
   "metadata": {},
   "outputs": [],
   "source": [
    "import cv2\n",
    "cap = cv2.VideoCapture((r\"C:\\Users\\srija\\Desktop\\car1.png\")\n",
    "total_frames = cap.get(cv2.CAP_PROP_FRAME_COUNT)\n",
    "current_frame = total_frames - 1\n",
    "while current_frame >= 0:\n",
    "    cap.set(cv2.CAP_PROP_POS_FRAMES, current_frame)\n",
    "    ret, frame = cap.read()\n",
    "    if not ret:\n",
    "        break\n",
    "    cv2.imshow('Video in Reverse', frame)\n",
    "    if cv2.waitKey(25) & 0xFF == ord('q'):\n",
    "        break\n",
    "    current_frame -= 1\n",
    "cap.release()\n",
    "cv2.destroyAllWindows()\n"
   ]
  }
 ],
 "metadata": {
  "kernelspec": {
   "display_name": "Python 3 (ipykernel)",
   "language": "python",
   "name": "python3"
  },
  "language_info": {
   "codemirror_mode": {
    "name": "ipython",
    "version": 3
   },
   "file_extension": ".py",
   "mimetype": "text/x-python",
   "name": "python",
   "nbconvert_exporter": "python",
   "pygments_lexer": "ipython3",
   "version": "3.11.3"
  }
 },
 "nbformat": 4,
 "nbformat_minor": 5
}
